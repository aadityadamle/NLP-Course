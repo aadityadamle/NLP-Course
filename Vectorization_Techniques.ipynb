{
  "nbformat": 4,
  "nbformat_minor": 0,
  "metadata": {
    "colab": {
      "name": "Vectorization Techniques",
      "provenance": [],
      "include_colab_link": true
    },
    "kernelspec": {
      "name": "python3",
      "display_name": "Python 3"
    }
  },
  "cells": [
    {
      "cell_type": "markdown",
      "metadata": {
        "id": "view-in-github",
        "colab_type": "text"
      },
      "source": [
        "<a href=\"https://colab.research.google.com/github/aadityadamle/NLP-Course/blob/main/Vectorization_Techniques.ipynb\" target=\"_parent\"><img src=\"https://colab.research.google.com/assets/colab-badge.svg\" alt=\"Open In Colab\"/></a>"
      ]
    },
    {
      "cell_type": "markdown",
      "metadata": {
        "id": "8J5-7Np0EOr8"
      },
      "source": [
        "# Vectorization Techniques"
      ]
    },
    {
      "cell_type": "markdown",
      "metadata": {
        "id": "q417joPNGO-s"
      },
      "source": [
        "NLTK Setup"
      ]
    },
    {
      "cell_type": "code",
      "metadata": {
        "id": "MqDZ3QMTEIbN",
        "colab": {
          "base_uri": "https://localhost:8080/"
        },
        "outputId": "41d3fd57-5011-453c-a58a-1f901042a4af"
      },
      "source": [
        "import nltk\n",
        "nltk.download(\"book\")"
      ],
      "execution_count": null,
      "outputs": [
        {
          "output_type": "stream",
          "text": [
            "[nltk_data] Downloading collection 'book'\n",
            "[nltk_data]    | \n",
            "[nltk_data]    | Downloading package abc to /root/nltk_data...\n",
            "[nltk_data]    |   Unzipping corpora/abc.zip.\n",
            "[nltk_data]    | Downloading package brown to /root/nltk_data...\n",
            "[nltk_data]    |   Unzipping corpora/brown.zip.\n",
            "[nltk_data]    | Downloading package chat80 to /root/nltk_data...\n",
            "[nltk_data]    |   Unzipping corpora/chat80.zip.\n",
            "[nltk_data]    | Downloading package cmudict to /root/nltk_data...\n",
            "[nltk_data]    |   Unzipping corpora/cmudict.zip.\n",
            "[nltk_data]    | Downloading package conll2000 to /root/nltk_data...\n",
            "[nltk_data]    |   Unzipping corpora/conll2000.zip.\n",
            "[nltk_data]    | Downloading package conll2002 to /root/nltk_data...\n",
            "[nltk_data]    |   Unzipping corpora/conll2002.zip.\n",
            "[nltk_data]    | Downloading package dependency_treebank to\n",
            "[nltk_data]    |     /root/nltk_data...\n",
            "[nltk_data]    |   Unzipping corpora/dependency_treebank.zip.\n",
            "[nltk_data]    | Downloading package genesis to /root/nltk_data...\n",
            "[nltk_data]    |   Unzipping corpora/genesis.zip.\n",
            "[nltk_data]    | Downloading package gutenberg to /root/nltk_data...\n",
            "[nltk_data]    |   Unzipping corpora/gutenberg.zip.\n",
            "[nltk_data]    | Downloading package ieer to /root/nltk_data...\n",
            "[nltk_data]    |   Unzipping corpora/ieer.zip.\n",
            "[nltk_data]    | Downloading package inaugural to /root/nltk_data...\n",
            "[nltk_data]    |   Unzipping corpora/inaugural.zip.\n",
            "[nltk_data]    | Downloading package movie_reviews to\n",
            "[nltk_data]    |     /root/nltk_data...\n",
            "[nltk_data]    |   Unzipping corpora/movie_reviews.zip.\n",
            "[nltk_data]    | Downloading package nps_chat to /root/nltk_data...\n",
            "[nltk_data]    |   Unzipping corpora/nps_chat.zip.\n",
            "[nltk_data]    | Downloading package names to /root/nltk_data...\n",
            "[nltk_data]    |   Unzipping corpora/names.zip.\n",
            "[nltk_data]    | Downloading package ppattach to /root/nltk_data...\n",
            "[nltk_data]    |   Unzipping corpora/ppattach.zip.\n",
            "[nltk_data]    | Downloading package reuters to /root/nltk_data...\n",
            "[nltk_data]    | Downloading package senseval to /root/nltk_data...\n",
            "[nltk_data]    |   Unzipping corpora/senseval.zip.\n",
            "[nltk_data]    | Downloading package state_union to /root/nltk_data...\n",
            "[nltk_data]    |   Unzipping corpora/state_union.zip.\n",
            "[nltk_data]    | Downloading package stopwords to /root/nltk_data...\n",
            "[nltk_data]    |   Unzipping corpora/stopwords.zip.\n",
            "[nltk_data]    | Downloading package swadesh to /root/nltk_data...\n",
            "[nltk_data]    |   Unzipping corpora/swadesh.zip.\n",
            "[nltk_data]    | Downloading package timit to /root/nltk_data...\n",
            "[nltk_data]    |   Unzipping corpora/timit.zip.\n",
            "[nltk_data]    | Downloading package treebank to /root/nltk_data...\n",
            "[nltk_data]    |   Unzipping corpora/treebank.zip.\n",
            "[nltk_data]    | Downloading package toolbox to /root/nltk_data...\n",
            "[nltk_data]    |   Unzipping corpora/toolbox.zip.\n",
            "[nltk_data]    | Downloading package udhr to /root/nltk_data...\n",
            "[nltk_data]    |   Unzipping corpora/udhr.zip.\n",
            "[nltk_data]    | Downloading package udhr2 to /root/nltk_data...\n",
            "[nltk_data]    |   Unzipping corpora/udhr2.zip.\n",
            "[nltk_data]    | Downloading package unicode_samples to\n",
            "[nltk_data]    |     /root/nltk_data...\n",
            "[nltk_data]    |   Unzipping corpora/unicode_samples.zip.\n",
            "[nltk_data]    | Downloading package webtext to /root/nltk_data...\n",
            "[nltk_data]    |   Unzipping corpora/webtext.zip.\n",
            "[nltk_data]    | Downloading package wordnet to /root/nltk_data...\n",
            "[nltk_data]    |   Unzipping corpora/wordnet.zip.\n",
            "[nltk_data]    | Downloading package wordnet_ic to /root/nltk_data...\n",
            "[nltk_data]    |   Unzipping corpora/wordnet_ic.zip.\n",
            "[nltk_data]    | Downloading package words to /root/nltk_data...\n",
            "[nltk_data]    |   Unzipping corpora/words.zip.\n",
            "[nltk_data]    | Downloading package maxent_treebank_pos_tagger to\n",
            "[nltk_data]    |     /root/nltk_data...\n",
            "[nltk_data]    |   Unzipping taggers/maxent_treebank_pos_tagger.zip.\n",
            "[nltk_data]    | Downloading package maxent_ne_chunker to\n",
            "[nltk_data]    |     /root/nltk_data...\n",
            "[nltk_data]    |   Unzipping chunkers/maxent_ne_chunker.zip.\n",
            "[nltk_data]    | Downloading package universal_tagset to\n",
            "[nltk_data]    |     /root/nltk_data...\n",
            "[nltk_data]    |   Unzipping taggers/universal_tagset.zip.\n",
            "[nltk_data]    | Downloading package punkt to /root/nltk_data...\n",
            "[nltk_data]    |   Unzipping tokenizers/punkt.zip.\n",
            "[nltk_data]    | Downloading package book_grammars to\n",
            "[nltk_data]    |     /root/nltk_data...\n",
            "[nltk_data]    |   Unzipping grammars/book_grammars.zip.\n",
            "[nltk_data]    | Downloading package city_database to\n",
            "[nltk_data]    |     /root/nltk_data...\n",
            "[nltk_data]    |   Unzipping corpora/city_database.zip.\n",
            "[nltk_data]    | Downloading package tagsets to /root/nltk_data...\n",
            "[nltk_data]    |   Unzipping help/tagsets.zip.\n",
            "[nltk_data]    | Downloading package panlex_swadesh to\n",
            "[nltk_data]    |     /root/nltk_data...\n",
            "[nltk_data]    | Downloading package averaged_perceptron_tagger to\n",
            "[nltk_data]    |     /root/nltk_data...\n",
            "[nltk_data]    |   Unzipping taggers/averaged_perceptron_tagger.zip.\n",
            "[nltk_data]    | \n",
            "[nltk_data]  Done downloading collection book\n"
          ],
          "name": "stdout"
        },
        {
          "output_type": "execute_result",
          "data": {
            "text/plain": [
              "True"
            ]
          },
          "metadata": {
            "tags": []
          },
          "execution_count": 1
        }
      ]
    },
    {
      "cell_type": "markdown",
      "metadata": {
        "id": "4Mcqz3PXEaP6"
      },
      "source": [
        "1. Bag of Words"
      ]
    },
    {
      "cell_type": "code",
      "metadata": {
        "colab": {
          "base_uri": "https://localhost:8080/"
        },
        "id": "rQZ7U9u1eWvr",
        "outputId": "dd96fa52-4a08-454c-8e83-23d72b39dd7d"
      },
      "source": [
        "nltk.corpus.gutenberg.fileids()"
      ],
      "execution_count": null,
      "outputs": [
        {
          "output_type": "execute_result",
          "data": {
            "text/plain": [
              "['austen-emma.txt',\n",
              " 'austen-persuasion.txt',\n",
              " 'austen-sense.txt',\n",
              " 'bible-kjv.txt',\n",
              " 'blake-poems.txt',\n",
              " 'bryant-stories.txt',\n",
              " 'burgess-busterbrown.txt',\n",
              " 'carroll-alice.txt',\n",
              " 'chesterton-ball.txt',\n",
              " 'chesterton-brown.txt',\n",
              " 'chesterton-thursday.txt',\n",
              " 'edgeworth-parents.txt',\n",
              " 'melville-moby_dick.txt',\n",
              " 'milton-paradise.txt',\n",
              " 'shakespeare-caesar.txt',\n",
              " 'shakespeare-hamlet.txt',\n",
              " 'shakespeare-macbeth.txt',\n",
              " 'whitman-leaves.txt']"
            ]
          },
          "metadata": {
            "tags": []
          },
          "execution_count": 2
        }
      ]
    },
    {
      "cell_type": "code",
      "metadata": {
        "colab": {
          "base_uri": "https://localhost:8080/"
        },
        "id": "nN5d93q0exsH",
        "outputId": "a0b6582b-999d-4beb-a6dd-b38edc74a8ce"
      },
      "source": [
        "# Import hamlet corpus \n",
        "hamlet = nltk.corpus.gutenberg.sents(\"shakespeare-hamlet.txt\")\n",
        "len(hamlet)"
      ],
      "execution_count": null,
      "outputs": [
        {
          "output_type": "execute_result",
          "data": {
            "text/plain": [
              "3106"
            ]
          },
          "metadata": {
            "tags": []
          },
          "execution_count": 3
        }
      ]
    },
    {
      "cell_type": "markdown",
      "metadata": {
        "id": "VbJrRRN5i6bn"
      },
      "source": [
        "Consider first 20 lines of text as entire corpus."
      ]
    },
    {
      "cell_type": "code",
      "metadata": {
        "colab": {
          "base_uri": "https://localhost:8080/"
        },
        "id": "YqVIinYkfjRB",
        "outputId": "e4f6fee3-8e0e-41b2-c6ac-a08bfdb22b79"
      },
      "source": [
        "hamlet[:20]"
      ],
      "execution_count": null,
      "outputs": [
        {
          "output_type": "execute_result",
          "data": {
            "text/plain": [
              "[['[',\n",
              "  'The',\n",
              "  'Tragedie',\n",
              "  'of',\n",
              "  'Hamlet',\n",
              "  'by',\n",
              "  'William',\n",
              "  'Shakespeare',\n",
              "  '1599',\n",
              "  ']'],\n",
              " ['Actus', 'Primus', '.'],\n",
              " ['Scoena', 'Prima', '.'],\n",
              " ['Enter', 'Barnardo', 'and', 'Francisco', 'two', 'Centinels', '.'],\n",
              " ['Barnardo', '.'],\n",
              " ['Who', \"'\", 's', 'there', '?'],\n",
              " ['Fran', '.'],\n",
              " ['Nay', 'answer', 'me', ':', 'Stand', '&', 'vnfold', 'your', 'selfe'],\n",
              " ['Bar', '.'],\n",
              " ['Long', 'liue', 'the', 'King'],\n",
              " ['Fran', '.'],\n",
              " ['Barnardo', '?'],\n",
              " ['Bar', '.'],\n",
              " ['He'],\n",
              " ['Fran', '.'],\n",
              " ['You', 'come', 'most', 'carefully', 'vpon', 'your', 'houre'],\n",
              " ['Bar', '.'],\n",
              " [\"'\",\n",
              "  'Tis',\n",
              "  'now',\n",
              "  'strook',\n",
              "  'twelue',\n",
              "  ',',\n",
              "  'get',\n",
              "  'thee',\n",
              "  'to',\n",
              "  'bed',\n",
              "  'Francisco'],\n",
              " ['Fran', '.'],\n",
              " ['For',\n",
              "  'this',\n",
              "  'releefe',\n",
              "  'much',\n",
              "  'thankes',\n",
              "  ':',\n",
              "  \"'\",\n",
              "  'Tis',\n",
              "  'bitter',\n",
              "  'cold',\n",
              "  ',',\n",
              "  'And',\n",
              "  'I',\n",
              "  'am',\n",
              "  'sicke',\n",
              "  'at',\n",
              "  'heart']]"
            ]
          },
          "metadata": {
            "tags": []
          },
          "execution_count": 4
        }
      ]
    },
    {
      "cell_type": "markdown",
      "metadata": {
        "id": "wsRMMwZ8is_-"
      },
      "source": [
        "List of unique words in first 20 lines of hamlet excluding punctuations"
      ]
    },
    {
      "cell_type": "code",
      "metadata": {
        "colab": {
          "base_uri": "https://localhost:8080/"
        },
        "id": "K30ABftSfJrg",
        "outputId": "1640bb10-2d09-491d-f847-ec93a8f1f1ef"
      },
      "source": [
        "data = []\n",
        "for line in hamlet[:20]:\n",
        "  for word in line:\n",
        "    if word.isalnum() and word not in data:\n",
        "      data.append(word)\n",
        "print(data)\n",
        "len(data)"
      ],
      "execution_count": null,
      "outputs": [
        {
          "output_type": "stream",
          "text": [
            "['The', 'Tragedie', 'of', 'Hamlet', 'by', 'William', 'Shakespeare', '1599', 'Actus', 'Primus', 'Scoena', 'Prima', 'Enter', 'Barnardo', 'and', 'Francisco', 'two', 'Centinels', 'Who', 's', 'there', 'Fran', 'Nay', 'answer', 'me', 'Stand', 'vnfold', 'your', 'selfe', 'Bar', 'Long', 'liue', 'the', 'King', 'He', 'You', 'come', 'most', 'carefully', 'vpon', 'houre', 'Tis', 'now', 'strook', 'twelue', 'get', 'thee', 'to', 'bed', 'For', 'this', 'releefe', 'much', 'thankes', 'bitter', 'cold', 'And', 'I', 'am', 'sicke', 'at', 'heart']\n"
          ],
          "name": "stdout"
        },
        {
          "output_type": "execute_result",
          "data": {
            "text/plain": [
              "62"
            ]
          },
          "metadata": {
            "tags": []
          },
          "execution_count": 5
        }
      ]
    },
    {
      "cell_type": "markdown",
      "metadata": {
        "id": "9FdSxCBytPVU"
      },
      "source": [
        "So the dictionary contains 62 words. Now select from above, any 5 sentence, prepare list of words in every sentence and check it with the dictionary. Create binary vectors corresponding to every sentence concatinating 1 if the word from dictionary is present in the sentence and 0 otherwise. \n",
        "\n",
        "So for the sentence \"Enter Barnado and Francisco two Centinels.\" the picure below illustrates the formation of vector."
      ]
    },
    {
      "cell_type": "markdown",
      "metadata": {
        "id": "wIXaiYBhNIKx"
      },
      "source": [
        "![BOG_vector.png](data:image/png;base64,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)"
      ]
    },
    {
      "cell_type": "code",
      "metadata": {
        "colab": {
          "base_uri": "https://localhost:8080/"
        },
        "id": "6X4bOXRxgSjK",
        "outputId": "ff7670cb-c8d4-42d2-84a3-ccc7874ba633"
      },
      "source": [
        "sent1 = hamlet[3]\n",
        "print(sent1)\n",
        "vect1 = []\n",
        "for word in data:\n",
        "  if word in sent1:\n",
        "    vect1.append(1)\n",
        "  else:\n",
        "    vect1.append(0)\n",
        "print(vect1)"
      ],
      "execution_count": null,
      "outputs": [
        {
          "output_type": "stream",
          "text": [
            "['Enter', 'Barnardo', 'and', 'Francisco', 'two', 'Centinels', '.']\n",
            "[0, 0, 0, 0, 0, 0, 0, 0, 0, 0, 0, 0, 1, 1, 1, 1, 1, 1, 0, 0, 0, 0, 0, 0, 0, 0, 0, 0, 0, 0, 0, 0, 0, 0, 0, 0, 0, 0, 0, 0, 0, 0, 0, 0, 0, 0, 0, 0, 0, 0, 0, 0, 0, 0, 0, 0, 0, 0, 0, 0, 0, 0]\n"
          ],
          "name": "stdout"
        }
      ]
    },
    {
      "cell_type": "markdown",
      "metadata": {
        "id": "ILUEsT6eyWQl"
      },
      "source": [
        "Make a function to use for multiple sentences easily. Arguments should be sentence and dictnary, both of list type. "
      ]
    },
    {
      "cell_type": "code",
      "metadata": {
        "id": "K6NyGLiYySqf"
      },
      "source": [
        "def wordToBinary(sentence, dictionary):\n",
        "  print(sentence)\n",
        "  vector = []\n",
        "  for word in dictionary:\n",
        "    if word in sentence:\n",
        "      vector.append(1)\n",
        "    else:\n",
        "      vector.append(0)\n",
        "  return vector"
      ],
      "execution_count": null,
      "outputs": []
    },
    {
      "cell_type": "markdown",
      "metadata": {
        "id": "h_nH8NLT0BLo"
      },
      "source": [
        "We have built the fuction. Now let's test it using sentences from our corpus.  "
      ]
    },
    {
      "cell_type": "code",
      "metadata": {
        "colab": {
          "base_uri": "https://localhost:8080/"
        },
        "id": "8bwNrxoDzm6R",
        "outputId": "3c3519ce-42be-4309-e182-24e29d93e9ae"
      },
      "source": [
        "sent2 = hamlet[7]\n",
        "vect2 = wordToBinary(sent2, data)\n",
        "print(vect2)"
      ],
      "execution_count": null,
      "outputs": [
        {
          "output_type": "stream",
          "text": [
            "['Nay', 'answer', 'me', ':', 'Stand', '&', 'vnfold', 'your', 'selfe']\n",
            "[0, 0, 0, 0, 0, 0, 0, 0, 0, 0, 0, 0, 0, 0, 0, 0, 0, 0, 0, 0, 0, 0, 1, 1, 1, 1, 1, 1, 1, 0, 0, 0, 0, 0, 0, 0, 0, 0, 0, 0, 0, 0, 0, 0, 0, 0, 0, 0, 0, 0, 0, 0, 0, 0, 0, 0, 0, 0, 0, 0, 0, 0]\n"
          ],
          "name": "stdout"
        }
      ]
    },
    {
      "cell_type": "markdown",
      "metadata": {
        "id": "wutQZ1Y-0jlx"
      },
      "source": [
        "Now make 3 more vectors using same technique."
      ]
    },
    {
      "cell_type": "code",
      "metadata": {
        "colab": {
          "base_uri": "https://localhost:8080/"
        },
        "id": "6dT2plFl0pq4",
        "outputId": "ef6c051b-33d9-4a93-bc1c-1448b465f446"
      },
      "source": [
        "vect3 = wordToBinary(hamlet[15],data)\n",
        "print(vect3)\n",
        "vect4 = wordToBinary(hamlet[17],data)\n",
        "print(vect4)\n",
        "vect5 = wordToBinary(hamlet[19],data)\n",
        "print(vect5)"
      ],
      "execution_count": null,
      "outputs": [
        {
          "output_type": "stream",
          "text": [
            "['You', 'come', 'most', 'carefully', 'vpon', 'your', 'houre']\n",
            "[0, 0, 0, 0, 0, 0, 0, 0, 0, 0, 0, 0, 0, 0, 0, 0, 0, 0, 0, 0, 0, 0, 0, 0, 0, 0, 0, 1, 0, 0, 0, 0, 0, 0, 0, 1, 1, 1, 1, 1, 1, 0, 0, 0, 0, 0, 0, 0, 0, 0, 0, 0, 0, 0, 0, 0, 0, 0, 0, 0, 0, 0]\n",
            "[\"'\", 'Tis', 'now', 'strook', 'twelue', ',', 'get', 'thee', 'to', 'bed', 'Francisco']\n",
            "[0, 0, 0, 0, 0, 0, 0, 0, 0, 0, 0, 0, 0, 0, 0, 1, 0, 0, 0, 0, 0, 0, 0, 0, 0, 0, 0, 0, 0, 0, 0, 0, 0, 0, 0, 0, 0, 0, 0, 0, 0, 1, 1, 1, 1, 1, 1, 1, 1, 0, 0, 0, 0, 0, 0, 0, 0, 0, 0, 0, 0, 0]\n",
            "['For', 'this', 'releefe', 'much', 'thankes', ':', \"'\", 'Tis', 'bitter', 'cold', ',', 'And', 'I', 'am', 'sicke', 'at', 'heart']\n",
            "[0, 0, 0, 0, 0, 0, 0, 0, 0, 0, 0, 0, 0, 0, 0, 0, 0, 0, 0, 0, 0, 0, 0, 0, 0, 0, 0, 0, 0, 0, 0, 0, 0, 0, 0, 0, 0, 0, 0, 0, 0, 1, 0, 0, 0, 0, 0, 0, 0, 1, 1, 1, 1, 1, 1, 1, 1, 1, 1, 1, 1, 1]\n"
          ],
          "name": "stdout"
        }
      ]
    },
    {
      "cell_type": "markdown",
      "metadata": {
        "id": "Vxo4RfeO3WDu"
      },
      "source": [
        "Now these 5 sentences are ready to insert in a machine learning model for training. As you can see in the results that the sentences including punctuations and symbols are also encoded successfully but as our dictionary is alphanumeric only, the symbols are ignored. \n",
        "\n",
        "The Scikit-Learn library provides this functionality with in their built-in CountVectorizer. I will show how easy it is to use it in this scenario."
      ]
    },
    {
      "cell_type": "code",
      "metadata": {
        "id": "MLmSkp29uefv"
      },
      "source": [
        "# Import CountVectorizer from Scikit - learn\n",
        "from sklearn.feature_extraction.text import CountVectorizer\n",
        "\n",
        "# Create a vectorizer object\n",
        "vectorizer = CountVectorizer()"
      ],
      "execution_count": null,
      "outputs": []
    },
    {
      "cell_type": "markdown",
      "metadata": {
        "id": "oVrf-y7s1Afl"
      },
      "source": [
        "We need not provide the sentences in the form of lists of words. The vectorizer can handle entire sentence as a string. Hence I have converted the above lists into strings using the join function. "
      ]
    },
    {
      "cell_type": "code",
      "metadata": {
        "colab": {
          "base_uri": "https://localhost:8080/"
        },
        "id": "stAo8e4sv8Gy",
        "outputId": "8ac8ba6f-11e0-4ce7-df81-f3393f7c07ad"
      },
      "source": [
        "# Create a list of five sentences\n",
        "sents = []\n",
        "sents.append(\" \".join(hamlet[3]))\n",
        "sents.append(\" \".join(hamlet[7]))\n",
        "sents.append(\" \".join(hamlet[15]))\n",
        "sents.append(\" \".join(hamlet[17]))\n",
        "sents.append(\" \".join(hamlet[19]))\n",
        "sents"
      ],
      "execution_count": null,
      "outputs": [
        {
          "output_type": "execute_result",
          "data": {
            "text/plain": [
              "['Enter Barnardo and Francisco two Centinels .',\n",
              " 'Nay answer me : Stand & vnfold your selfe',\n",
              " 'You come most carefully vpon your houre',\n",
              " \"' Tis now strook twelue , get thee to bed Francisco\",\n",
              " \"For this releefe much thankes : ' Tis bitter cold , And I am sicke at heart\"]"
            ]
          },
          "metadata": {
            "tags": []
          },
          "execution_count": 11
        }
      ]
    },
    {
      "cell_type": "markdown",
      "metadata": {
        "id": "90bDeZYx149c"
      },
      "source": [
        "The fit_transform function is used to vectorize the sentences. The function performs two operations. First it reads all the sentences and generates the vocablary and then it converts all the senetences to vectors according to the vocabulary."
      ]
    },
    {
      "cell_type": "code",
      "metadata": {
        "id": "XzHpZIwXvhZd"
      },
      "source": [
        "# Apply fit_transform function of the vectorizer object to the sentence list\n",
        "X = vectorizer.fit_transform(sents) "
      ],
      "execution_count": null,
      "outputs": []
    },
    {
      "cell_type": "markdown",
      "metadata": {
        "id": "Q6FaaCzp21lZ"
      },
      "source": [
        "The get_feature_names function returns the vocabulary generated by fitting the vectorizer over the list of sentences."
      ]
    },
    {
      "cell_type": "code",
      "metadata": {
        "colab": {
          "base_uri": "https://localhost:8080/"
        },
        "id": "X2lMCveP0PDN",
        "outputId": "f2515164-69dd-403e-8506-f3d2339790bd"
      },
      "source": [
        "# Print the vocabulary and no. of words\n",
        "print(vectorizer.get_feature_names())\n",
        "print(len(vectorizer.get_feature_names()))"
      ],
      "execution_count": null,
      "outputs": [
        {
          "output_type": "stream",
          "text": [
            "['am', 'and', 'answer', 'at', 'barnardo', 'bed', 'bitter', 'carefully', 'centinels', 'cold', 'come', 'enter', 'for', 'francisco', 'get', 'heart', 'houre', 'me', 'most', 'much', 'nay', 'now', 'releefe', 'selfe', 'sicke', 'stand', 'strook', 'thankes', 'thee', 'this', 'tis', 'to', 'twelue', 'two', 'vnfold', 'vpon', 'you', 'your']\n",
            "38\n"
          ],
          "name": "stdout"
        }
      ]
    },
    {
      "cell_type": "markdown",
      "metadata": {
        "id": "GLBnB8E_3GHX"
      },
      "source": [
        "The generated vector are stored in variable X and can be viewed as arrays of 1s and 0s.\n"
      ]
    },
    {
      "cell_type": "code",
      "metadata": {
        "colab": {
          "base_uri": "https://localhost:8080/"
        },
        "id": "dOkFnYfB0rRy",
        "outputId": "9a5d7b79-644e-4c4f-97d0-964dc654f9c2"
      },
      "source": [
        "# View the vectors\n",
        "X.toarray()"
      ],
      "execution_count": null,
      "outputs": [
        {
          "output_type": "execute_result",
          "data": {
            "text/plain": [
              "array([[0, 1, 0, 0, 1, 0, 0, 0, 1, 0, 0, 1, 0, 1, 0, 0, 0, 0, 0, 0, 0, 0,\n",
              "        0, 0, 0, 0, 0, 0, 0, 0, 0, 0, 0, 1, 0, 0, 0, 0],\n",
              "       [0, 0, 1, 0, 0, 0, 0, 0, 0, 0, 0, 0, 0, 0, 0, 0, 0, 1, 0, 0, 1, 0,\n",
              "        0, 1, 0, 1, 0, 0, 0, 0, 0, 0, 0, 0, 1, 0, 0, 1],\n",
              "       [0, 0, 0, 0, 0, 0, 0, 1, 0, 0, 1, 0, 0, 0, 0, 0, 1, 0, 1, 0, 0, 0,\n",
              "        0, 0, 0, 0, 0, 0, 0, 0, 0, 0, 0, 0, 0, 1, 1, 1],\n",
              "       [0, 0, 0, 0, 0, 1, 0, 0, 0, 0, 0, 0, 0, 1, 1, 0, 0, 0, 0, 0, 0, 1,\n",
              "        0, 0, 0, 0, 1, 0, 1, 0, 1, 1, 1, 0, 0, 0, 0, 0],\n",
              "       [1, 1, 0, 1, 0, 0, 1, 0, 0, 1, 0, 0, 1, 0, 0, 1, 0, 0, 0, 1, 0, 0,\n",
              "        1, 0, 1, 0, 0, 1, 0, 1, 1, 0, 0, 0, 0, 0, 0, 0]])"
            ]
          },
          "metadata": {
            "tags": []
          },
          "execution_count": 14
        }
      ]
    },
    {
      "cell_type": "markdown",
      "metadata": {
        "id": "R3eodyQ-3Vjl"
      },
      "source": [
        "As you can see in the output the sentences are represented as  arrays of length 38. In this way within only few steps we can achieve vectorized texts using CountVectorizer. "
      ]
    },
    {
      "cell_type": "markdown",
      "metadata": {
        "id": "iHAxZ9X4t9Yl"
      },
      "source": [
        "The main disadvantage of this approach is the dimensions of the vector increase with the dictionary length. You can easily imagine if just 20 lines from a book contain 62 words then a whole book would make up to huge  vector dimensions. Plus we only discern the presence of words and not the importance which can be calculated by counting word occurences. We will shift our focus to methods that solve these problems."
      ]
    },
    {
      "cell_type": "markdown",
      "metadata": {
        "id": "8UoFydsdF6ui"
      },
      "source": [
        "2. TF-IDF\n",
        "\n"
      ]
    },
    {
      "cell_type": "markdown",
      "metadata": {
        "id": "ID9d6ekBlS_Q"
      },
      "source": [
        "Tf is the Term frequency which means how many times a particular word has occurred in the document and idf is inverse document frequency which basically removes the words which are very common in all the documents. At the end, we acquire the words which are more important in the document."
      ]
    },
    {
      "cell_type": "markdown",
      "metadata": {
        "id": "-JFII0RPRMpV"
      },
      "source": [
        "I will use only five sentences in my example as we used in the bag of words model. "
      ]
    },
    {
      "cell_type": "markdown",
      "metadata": {
        "id": "r52j_L7vFNh7"
      },
      "source": [
        "\n",
        "\n",
        "The TF value refers to term frequency and can be calculated as follows:\n",
        "\n",
        "TF = (Frequency of the word in the sentence) / (Total number of words in the sentence)\n",
        "\n",
        "For instance, look at the first word of the third sentence \"You\". Its term frequency will be 0.14 since the word \"Enter\" occurs only once in the sentence and the total number of words in the sentence are 7, hence, 1/7 = 0.14."
      ]
    },
    {
      "cell_type": "markdown",
      "metadata": {
        "id": "04Y6jedYnB6p"
      },
      "source": [
        "IDF refers to inverse document frequency and can be calculated as follows:\n",
        "\n",
        "IDF: (Total number of sentences (documents))/(Number of sentences (documents) containing the word)\n",
        "\n",
        "For instance the word \"You\" occurs in only one of five sentences, therefore the IDF value of the word \"You\" is 1/5 = 0.20."
      ]
    },
    {
      "cell_type": "markdown",
      "metadata": {
        "id": "IIJCZWYAnNM6"
      },
      "source": [
        "It is important to mention that the IDF value for a word remains the same throughout all the documents as it depends upon the total number of documents. On the other hand, TF values of a word differ from document to document."
      ]
    },
    {
      "cell_type": "markdown",
      "metadata": {
        "id": "rzC0pdyfpclU"
      },
      "source": [
        "First let's see our corpus"
      ]
    },
    {
      "cell_type": "code",
      "metadata": {
        "id": "Y5wCLMJaGIJd",
        "colab": {
          "base_uri": "https://localhost:8080/"
        },
        "outputId": "14801b5e-702f-4d5f-876a-605316bd52c1"
      },
      "source": [
        "sents"
      ],
      "execution_count": null,
      "outputs": [
        {
          "output_type": "execute_result",
          "data": {
            "text/plain": [
              "['Enter Barnardo and Francisco two Centinels .',\n",
              " 'Nay answer me : Stand & vnfold your selfe',\n",
              " 'You come most carefully vpon your houre',\n",
              " \"' Tis now strook twelue , get thee to bed Francisco\",\n",
              " \"For this releefe much thankes : ' Tis bitter cold , And I am sicke at heart\"]"
            ]
          },
          "metadata": {
            "tags": []
          },
          "execution_count": 15
        }
      ]
    },
    {
      "cell_type": "markdown",
      "metadata": {
        "id": "fZ5qLxMGpk-X"
      },
      "source": [
        "To begin with, remove punctuations and convert the text to lowercase."
      ]
    },
    {
      "cell_type": "code",
      "metadata": {
        "colab": {
          "base_uri": "https://localhost:8080/"
        },
        "id": "yKhSpqzMoCqi",
        "outputId": "b53de5c6-a692-429f-acf9-d2ff6b6ad3be"
      },
      "source": [
        "import re\n",
        "\n",
        "for i in range(len(sents)):\n",
        "    sents [i] = sents [i].lower()\n",
        "    sents [i] = re.sub(r'\\W',' ',sents [i])\n",
        "\n",
        "sents    "
      ],
      "execution_count": null,
      "outputs": [
        {
          "output_type": "execute_result",
          "data": {
            "text/plain": [
              "['enter barnardo and francisco two centinels  ',\n",
              " 'nay answer me   stand   vnfold your selfe',\n",
              " 'you come most carefully vpon your houre',\n",
              " '  tis now strook twelue   get thee to bed francisco',\n",
              " 'for this releefe much thankes     tis bitter cold   and i am sicke at heart']"
            ]
          },
          "metadata": {
            "tags": []
          },
          "execution_count": 16
        }
      ]
    },
    {
      "cell_type": "markdown",
      "metadata": {
        "id": "KlcpRFifD2AL"
      },
      "source": [
        "The next step is to tokenize the text."
      ]
    },
    {
      "cell_type": "code",
      "metadata": {
        "colab": {
          "base_uri": "https://localhost:8080/"
        },
        "id": "sh-WWiJXD1oI",
        "outputId": "164eccb0-9ff1-4da5-8a2f-492d59e8edce"
      },
      "source": [
        "sent_tokens = []\n",
        "for sent in sents:\n",
        "  tokens = nltk.word_tokenize(sent) \n",
        "  sent_tokens.append(tokens)\n",
        "\n",
        "sent_tokens"
      ],
      "execution_count": null,
      "outputs": [
        {
          "output_type": "execute_result",
          "data": {
            "text/plain": [
              "[['enter', 'barnardo', 'and', 'francisco', 'two', 'centinels'],\n",
              " ['nay', 'answer', 'me', 'stand', 'vnfold', 'your', 'selfe'],\n",
              " ['you', 'come', 'most', 'carefully', 'vpon', 'your', 'houre'],\n",
              " ['tis', 'now', 'strook', 'twelue', 'get', 'thee', 'to', 'bed', 'francisco'],\n",
              " ['for',\n",
              "  'this',\n",
              "  'releefe',\n",
              "  'much',\n",
              "  'thankes',\n",
              "  'tis',\n",
              "  'bitter',\n",
              "  'cold',\n",
              "  'and',\n",
              "  'i',\n",
              "  'am',\n",
              "  'sicke',\n",
              "  'at',\n",
              "  'heart']]"
            ]
          },
          "metadata": {
            "tags": []
          },
          "execution_count": 17
        }
      ]
    },
    {
      "cell_type": "markdown",
      "metadata": {
        "id": "Lvfsl8SalbQz"
      },
      "source": [
        "Then create a dictionary of word frequencies of all the words in the five sentences."
      ]
    },
    {
      "cell_type": "code",
      "metadata": {
        "colab": {
          "base_uri": "https://localhost:8080/"
        },
        "id": "XVEIax_iFOJJ",
        "outputId": "d3e73203-80d9-4bd3-f9f9-1bdeea80bb1a"
      },
      "source": [
        "#Create a dictioary of word frequencies\n",
        "wordfreq = {}\n",
        "for sentence in sent_tokens:\n",
        "  for word in sentence:\n",
        "    if word not in wordfreq.keys():\n",
        "      wordfreq[word] = 1\n",
        "    else:\n",
        "      wordfreq[word] += 1\n",
        "\n",
        "wordfreq"
      ],
      "execution_count": null,
      "outputs": [
        {
          "output_type": "execute_result",
          "data": {
            "text/plain": [
              "{'am': 1,\n",
              " 'and': 2,\n",
              " 'answer': 1,\n",
              " 'at': 1,\n",
              " 'barnardo': 1,\n",
              " 'bed': 1,\n",
              " 'bitter': 1,\n",
              " 'carefully': 1,\n",
              " 'centinels': 1,\n",
              " 'cold': 1,\n",
              " 'come': 1,\n",
              " 'enter': 1,\n",
              " 'for': 1,\n",
              " 'francisco': 2,\n",
              " 'get': 1,\n",
              " 'heart': 1,\n",
              " 'houre': 1,\n",
              " 'i': 1,\n",
              " 'me': 1,\n",
              " 'most': 1,\n",
              " 'much': 1,\n",
              " 'nay': 1,\n",
              " 'now': 1,\n",
              " 'releefe': 1,\n",
              " 'selfe': 1,\n",
              " 'sicke': 1,\n",
              " 'stand': 1,\n",
              " 'strook': 1,\n",
              " 'thankes': 1,\n",
              " 'thee': 1,\n",
              " 'this': 1,\n",
              " 'tis': 2,\n",
              " 'to': 1,\n",
              " 'twelue': 1,\n",
              " 'two': 1,\n",
              " 'vnfold': 1,\n",
              " 'vpon': 1,\n",
              " 'you': 1,\n",
              " 'your': 2}"
            ]
          },
          "metadata": {
            "tags": []
          },
          "execution_count": 18
        }
      ]
    },
    {
      "cell_type": "markdown",
      "metadata": {
        "id": "qr_mKBWCkDSd"
      },
      "source": [
        "Sort the dictionary of word frequencies in decsending order of the frequency. This will give a dictionary with the most frequent words at the top.  "
      ]
    },
    {
      "cell_type": "code",
      "metadata": {
        "colab": {
          "base_uri": "https://localhost:8080/"
        },
        "id": "R4Z2xyFrup7A",
        "outputId": "434d349c-b67f-47f7-d62f-51378a1ef568"
      },
      "source": [
        "sort_wordfreq = sorted(wordfreq.items(), \n",
        "                       key = lambda kv:(kv[1], kv[0]),\n",
        "                       reverse = True)\n",
        "sort_wordfreq"
      ],
      "execution_count": null,
      "outputs": [
        {
          "output_type": "execute_result",
          "data": {
            "text/plain": [
              "[('your', 2),\n",
              " ('tis', 2),\n",
              " ('francisco', 2),\n",
              " ('and', 2),\n",
              " ('you', 1),\n",
              " ('vpon', 1),\n",
              " ('vnfold', 1),\n",
              " ('two', 1),\n",
              " ('twelue', 1),\n",
              " ('to', 1),\n",
              " ('this', 1),\n",
              " ('thee', 1),\n",
              " ('thankes', 1),\n",
              " ('strook', 1),\n",
              " ('stand', 1),\n",
              " ('sicke', 1),\n",
              " ('selfe', 1),\n",
              " ('releefe', 1),\n",
              " ('now', 1),\n",
              " ('nay', 1),\n",
              " ('much', 1),\n",
              " ('most', 1),\n",
              " ('me', 1),\n",
              " ('i', 1),\n",
              " ('houre', 1),\n",
              " ('heart', 1),\n",
              " ('get', 1),\n",
              " ('for', 1),\n",
              " ('enter', 1),\n",
              " ('come', 1),\n",
              " ('cold', 1),\n",
              " ('centinels', 1),\n",
              " ('carefully', 1),\n",
              " ('bitter', 1),\n",
              " ('bed', 1),\n",
              " ('barnardo', 1),\n",
              " ('at', 1),\n",
              " ('answer', 1),\n",
              " ('am', 1)]"
            ]
          },
          "metadata": {
            "tags": []
          },
          "execution_count": 19
        }
      ]
    },
    {
      "cell_type": "markdown",
      "metadata": {
        "id": "66sV5IvFtd_o"
      },
      "source": [
        "Note that vectorization is a tecnique of representing sentences as vectors and thus the vectors may not contain all the words. The word that are important or most frequent are considered. Thus, we represent sentences only with the selected words.\n",
        "\n",
        "Following illustrates the selection of most frequent words. \n"
      ]
    },
    {
      "cell_type": "markdown",
      "metadata": {
        "id": "RZp0BrrCTKqj"
      },
      "source": [
        "![Most_Freq (1).png](data:image/png;base64,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)"
      ]
    },
    {
      "cell_type": "markdown",
      "metadata": {
        "id": "NW4N-3-qSWgd"
      },
      "source": [
        "Select the most frequent words in the dictionary with which the sentences will be represented. Since I have considered only five sentences, I am only considering very few words. It should depend on the size of sentence or vocabulary that is used. \n"
      ]
    },
    {
      "cell_type": "code",
      "metadata": {
        "colab": {
          "base_uri": "https://localhost:8080/"
        },
        "id": "IBdFElvw4j46",
        "outputId": "4402193d-71b0-47d0-d7a9-c8bdbd9588d8"
      },
      "source": [
        "most_freq = []\n",
        "for word in sort_wordfreq[:5]:\n",
        "  most_freq.append(word[0])\n",
        "most_freq"
      ],
      "execution_count": null,
      "outputs": [
        {
          "output_type": "execute_result",
          "data": {
            "text/plain": [
              "['your', 'tis', 'francisco', 'and', 'you']"
            ]
          },
          "metadata": {
            "tags": []
          },
          "execution_count": 20
        }
      ]
    },
    {
      "cell_type": "markdown",
      "metadata": {
        "id": "L2njkwGR4v7A"
      },
      "source": [
        "Now find the idf values of the most frequent words. As mentioned at the beginning the formula for finding idf value is (Total number of sentences (document))/(Number of sentences (document) containing the word)\n",
        "\n",
        "The following illustrates calculation of IDF values."
      ]
    },
    {
      "cell_type": "markdown",
      "metadata": {
        "id": "QHSrFeAdYrWa"
      },
      "source": [
        "![IDF_Value.png](data:image/png;base64,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)"
      ]
    },
    {
      "cell_type": "code",
      "metadata": {
        "colab": {
          "base_uri": "https://localhost:8080/"
        },
        "id": "-sPz4dvgte5S",
        "outputId": "f9356044-62e0-4acf-e50d-ecf37b8f443f"
      },
      "source": [
        "import numpy as np\n",
        "\n",
        "word_idf_values = {}\n",
        "for token in most_freq:\n",
        "  sent_has_word = 0\n",
        "  for sent in sent_tokens:\n",
        "    if token in sent:\n",
        "      sent_has_word += 1\n",
        "  word_idf_values[token] = np.log(len(sents)/(1 + sent_has_word))\n",
        "\n",
        "word_idf_values"
      ],
      "execution_count": null,
      "outputs": [
        {
          "output_type": "execute_result",
          "data": {
            "text/plain": [
              "{'and': 0.5108256237659907,\n",
              " 'francisco': 0.5108256237659907,\n",
              " 'tis': 0.5108256237659907,\n",
              " 'you': 0.9162907318741551,\n",
              " 'your': 0.5108256237659907}"
            ]
          },
          "metadata": {
            "tags": []
          },
          "execution_count": 21
        }
      ]
    },
    {
      "cell_type": "markdown",
      "metadata": {
        "id": "T6D9FumfY00d"
      },
      "source": [
        "The IDF values are different from that in table because I used np.log function which gives good vectorization result. "
      ]
    },
    {
      "cell_type": "markdown",
      "metadata": {
        "id": "d7Z6JseJ3WLH"
      },
      "source": [
        "The next step is to create the TF dictionary for each word. As seen in the introduction, the formula to claculate tf value is (Frequency of the word in the sentence) / (Total number of words in the sentence)\n",
        "\n",
        "The following illustrates calculation of TF values."
      ]
    },
    {
      "cell_type": "markdown",
      "metadata": {
        "id": "pagK2i6Lq6ca"
      },
      "source": [
        "![TF_Values (1).png](data:image/png;base64,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)"
      ]
    },
    {
      "cell_type": "code",
      "metadata": {
        "colab": {
          "base_uri": "https://localhost:8080/"
        },
        "id": "eZzFgwgK3Pdu",
        "outputId": "5be678ca-3182-4c2c-be20-d9b0cc31bb81"
      },
      "source": [
        "word_tf_values = {}\n",
        "for token in most_freq:\n",
        "  sent_tf_vector = []\n",
        "  for sent in sent_tokens:\n",
        "    doc_freq = 0\n",
        "    for word in sent:\n",
        "      if token == word:\n",
        "        doc_freq += 1\n",
        "    word_tf = doc_freq/len(sent)\n",
        "    sent_tf_vector.append(word_tf)  \n",
        "  word_tf_values[token] = sent_tf_vector\n",
        "\n",
        "word_tf_values"
      ],
      "execution_count": null,
      "outputs": [
        {
          "output_type": "execute_result",
          "data": {
            "text/plain": [
              "{'and': [0.16666666666666666, 0.0, 0.0, 0.0, 0.07142857142857142],\n",
              " 'francisco': [0.16666666666666666, 0.0, 0.0, 0.1111111111111111, 0.0],\n",
              " 'tis': [0.0, 0.0, 0.0, 0.1111111111111111, 0.07142857142857142],\n",
              " 'you': [0.0, 0.0, 0.14285714285714285, 0.0, 0.0],\n",
              " 'your': [0.0, 0.14285714285714285, 0.14285714285714285, 0.0, 0.0]}"
            ]
          },
          "metadata": {
            "tags": []
          },
          "execution_count": 22
        }
      ]
    },
    {
      "cell_type": "markdown",
      "metadata": {
        "id": "M3tjwRkYrV6y"
      },
      "source": [
        "The above code gives a dictionary in which keys are the 5 most frequent words and the value is the vector containing 5 tf values of that particular word in the 5 sentences of our corpus."
      ]
    },
    {
      "cell_type": "markdown",
      "metadata": {
        "id": "EL8LO03F7KgJ"
      },
      "source": [
        "Now we have IDF values of all the words, along with TF values of every word across the sentences. The next step is to simply multiply IDF values with TF values."
      ]
    },
    {
      "cell_type": "code",
      "metadata": {
        "colab": {
          "base_uri": "https://localhost:8080/"
        },
        "id": "9-FMGcgt7OK3",
        "outputId": "2dae587a-b028-49f1-c65f-99dd5b3f44be"
      },
      "source": [
        "tfidf_values = []\n",
        "for token in word_tf_values.keys():\n",
        "    tfidf_sentences = []\n",
        "    for tf_sentence in word_tf_values[token]:\n",
        "        tf_idf_score = tf_sentence * word_idf_values[token]\n",
        "        tfidf_sentences.append(tf_idf_score)\n",
        "    tfidf_values.append(tfidf_sentences)\n",
        "\n",
        "tfidf_values"
      ],
      "execution_count": null,
      "outputs": [
        {
          "output_type": "execute_result",
          "data": {
            "text/plain": [
              "[[0.0, 0.07297508910942724, 0.07297508910942724, 0.0, 0.0],\n",
              " [0.0, 0.0, 0.0, 0.05675840264066563, 0.03648754455471362],\n",
              " [0.08513760396099845, 0.0, 0.0, 0.05675840264066563, 0.0],\n",
              " [0.08513760396099845, 0.0, 0.0, 0.0, 0.03648754455471362],\n",
              " [0.0, 0.0, 0.13089867598202215, 0.0, 0.0]]"
            ]
          },
          "metadata": {
            "tags": []
          },
          "execution_count": 23
        }
      ]
    },
    {
      "cell_type": "markdown",
      "metadata": {
        "id": "jSuS3TbCq8cs"
      },
      "source": [
        "Using the above code we have acquired the list of lists of tfidf values for 5 most frequent words. The outer list represents our corpus containing inner list representing the sentences in the corpus.\n",
        "\n",
        "Now we convert these list into a numpy array."
      ]
    },
    {
      "cell_type": "code",
      "metadata": {
        "colab": {
          "base_uri": "https://localhost:8080/"
        },
        "id": "Hp8svvl3i8vI",
        "outputId": "3b188986-35ea-4535-f056-521cd3c34dff"
      },
      "source": [
        "tf_idf_model = np.asarray(tfidf_values)\n",
        "tf_idf_model"
      ],
      "execution_count": null,
      "outputs": [
        {
          "output_type": "execute_result",
          "data": {
            "text/plain": [
              "array([[0.        , 0.07297509, 0.07297509, 0.        , 0.        ],\n",
              "       [0.        , 0.        , 0.        , 0.0567584 , 0.03648754],\n",
              "       [0.0851376 , 0.        , 0.        , 0.0567584 , 0.        ],\n",
              "       [0.0851376 , 0.        , 0.        , 0.        , 0.03648754],\n",
              "       [0.        , 0.        , 0.13089868, 0.        , 0.        ]])"
            ]
          },
          "metadata": {
            "tags": []
          },
          "execution_count": 24
        }
      ]
    },
    {
      "cell_type": "markdown",
      "metadata": {
        "id": "TT0X8mlStToT"
      },
      "source": [
        "Our final goal is to vectorize sentences. Notice that we want the tfidf values according to the sentences and not according the particular words.\n",
        "\n",
        "Thus we need to perform a transpose operation on this matrix to get final sentences."
      ]
    },
    {
      "cell_type": "code",
      "metadata": {
        "colab": {
          "base_uri": "https://localhost:8080/"
        },
        "id": "DX8Zh9UhutFY",
        "outputId": "90947d9d-386c-42a3-d390-2d08f3cf9620"
      },
      "source": [
        "tf_idf_model = np.transpose(tf_idf_model)\n",
        "tf_idf_model"
      ],
      "execution_count": null,
      "outputs": [
        {
          "output_type": "execute_result",
          "data": {
            "text/plain": [
              "array([[0.        , 0.        , 0.0851376 , 0.0851376 , 0.        ],\n",
              "       [0.07297509, 0.        , 0.        , 0.        , 0.        ],\n",
              "       [0.07297509, 0.        , 0.        , 0.        , 0.13089868],\n",
              "       [0.        , 0.0567584 , 0.0567584 , 0.        , 0.        ],\n",
              "       [0.        , 0.03648754, 0.        , 0.03648754, 0.        ]])"
            ]
          },
          "metadata": {
            "tags": []
          },
          "execution_count": 25
        }
      ]
    },
    {
      "cell_type": "markdown",
      "metadata": {
        "id": "1hd4w6o4u34G"
      },
      "source": [
        "Now the first row represents the first sentence \"Enter Barnardo and Francisco two Centinels\" and we get tfidf values for the words \"and\" and \"francisco\" which are most common.  "
      ]
    },
    {
      "cell_type": "markdown",
      "metadata": {
        "id": "MMyUhRs9xELJ"
      },
      "source": [
        "The Scikit-Learn library provides this functionality with in their built-in TfidfVectorizer. I will show how easy it is to use it in this scenario."
      ]
    },
    {
      "cell_type": "code",
      "metadata": {
        "id": "Z_RaSRXJxCD1"
      },
      "source": [
        "# Import TfidfVectorizer from Scikit - learn\n",
        "from sklearn.feature_extraction.text import TfidfVectorizer\n",
        "\n",
        "# Create a vectorizer object\n",
        "vectorizer = TfidfVectorizer()"
      ],
      "execution_count": null,
      "outputs": []
    },
    {
      "cell_type": "markdown",
      "metadata": {
        "id": "m_i2OX40xuCO"
      },
      "source": [
        "Just like in CountVectorizer, the fit_transform function is used to vectorize the sentences. First it reads all the sentences and generates the vocablary. Then it converts all the senetences to vectors containing tfidf values ."
      ]
    },
    {
      "cell_type": "code",
      "metadata": {
        "id": "qPSO4hS4yG63"
      },
      "source": [
        "# Apply fit_transform function of the vectorizer object to the sentence list\n",
        "X = vectorizer.fit_transform(sents) "
      ],
      "execution_count": null,
      "outputs": []
    },
    {
      "cell_type": "markdown",
      "metadata": {
        "id": "oIugCBxGyOFj"
      },
      "source": [
        "The get_feature_names function returns the vocabulary generated by fitting the vectorizer over the list of sentences."
      ]
    },
    {
      "cell_type": "code",
      "metadata": {
        "colab": {
          "base_uri": "https://localhost:8080/"
        },
        "id": "EO3YSCHayNvy",
        "outputId": "ec3d1150-556b-4e2b-bd81-e6826fbba179"
      },
      "source": [
        "# Print the vocabulary and no. of words\n",
        "print(vectorizer.get_feature_names())\n",
        "print(len(vectorizer.get_feature_names()))"
      ],
      "execution_count": null,
      "outputs": [
        {
          "output_type": "stream",
          "text": [
            "['am', 'and', 'answer', 'at', 'barnardo', 'bed', 'bitter', 'carefully', 'centinels', 'cold', 'come', 'enter', 'for', 'francisco', 'get', 'heart', 'houre', 'me', 'most', 'much', 'nay', 'now', 'releefe', 'selfe', 'sicke', 'stand', 'strook', 'thankes', 'thee', 'this', 'tis', 'to', 'twelue', 'two', 'vnfold', 'vpon', 'you', 'your']\n",
            "38\n"
          ],
          "name": "stdout"
        }
      ]
    },
    {
      "cell_type": "markdown",
      "metadata": {
        "id": "w5DlouaDyRnc"
      },
      "source": [
        "The generated vector are stored in variable X and can be viewed as arrays containing the tfidf values."
      ]
    },
    {
      "cell_type": "code",
      "metadata": {
        "colab": {
          "base_uri": "https://localhost:8080/"
        },
        "id": "dhTG0JKlyRcK",
        "outputId": "7535436d-84f1-49e9-9cf4-51d5fa711f97"
      },
      "source": [
        "# View the vectors\n",
        "X.toarray()"
      ],
      "execution_count": null,
      "outputs": [
        {
          "output_type": "execute_result",
          "data": {
            "text/plain": [
              "array([[0.        , 0.35038823, 0.        , 0.        , 0.43429718,\n",
              "        0.        , 0.        , 0.        , 0.43429718, 0.        ,\n",
              "        0.        , 0.43429718, 0.        , 0.35038823, 0.        ,\n",
              "        0.        , 0.        , 0.        , 0.        , 0.        ,\n",
              "        0.        , 0.        , 0.        , 0.        , 0.        ,\n",
              "        0.        , 0.        , 0.        , 0.        , 0.        ,\n",
              "        0.        , 0.        , 0.        , 0.43429718, 0.        ,\n",
              "        0.        , 0.        , 0.        ],\n",
              "       [0.        , 0.        , 0.38775666, 0.        , 0.        ,\n",
              "        0.        , 0.        , 0.        , 0.        , 0.        ,\n",
              "        0.        , 0.        , 0.        , 0.        , 0.        ,\n",
              "        0.        , 0.        , 0.38775666, 0.        , 0.        ,\n",
              "        0.38775666, 0.        , 0.        , 0.38775666, 0.        ,\n",
              "        0.38775666, 0.        , 0.        , 0.        , 0.        ,\n",
              "        0.        , 0.        , 0.        , 0.        , 0.38775666,\n",
              "        0.        , 0.        , 0.31283963],\n",
              "       [0.        , 0.        , 0.        , 0.        , 0.        ,\n",
              "        0.        , 0.        , 0.38775666, 0.        , 0.        ,\n",
              "        0.38775666, 0.        , 0.        , 0.        , 0.        ,\n",
              "        0.        , 0.38775666, 0.        , 0.38775666, 0.        ,\n",
              "        0.        , 0.        , 0.        , 0.        , 0.        ,\n",
              "        0.        , 0.        , 0.        , 0.        , 0.        ,\n",
              "        0.        , 0.        , 0.        , 0.        , 0.        ,\n",
              "        0.38775666, 0.38775666, 0.31283963],\n",
              "       [0.        , 0.        , 0.        , 0.        , 0.        ,\n",
              "        0.34706676, 0.        , 0.        , 0.        , 0.        ,\n",
              "        0.        , 0.        , 0.        , 0.28001128, 0.34706676,\n",
              "        0.        , 0.        , 0.        , 0.        , 0.        ,\n",
              "        0.        , 0.34706676, 0.        , 0.        , 0.        ,\n",
              "        0.        , 0.34706676, 0.        , 0.34706676, 0.        ,\n",
              "        0.28001128, 0.34706676, 0.34706676, 0.        , 0.        ,\n",
              "        0.        , 0.        , 0.        ],\n",
              "       [0.28511174, 0.23002636, 0.        , 0.28511174, 0.        ,\n",
              "        0.        , 0.28511174, 0.        , 0.        , 0.28511174,\n",
              "        0.        , 0.        , 0.28511174, 0.        , 0.        ,\n",
              "        0.28511174, 0.        , 0.        , 0.        , 0.28511174,\n",
              "        0.        , 0.        , 0.28511174, 0.        , 0.28511174,\n",
              "        0.        , 0.        , 0.28511174, 0.        , 0.28511174,\n",
              "        0.23002636, 0.        , 0.        , 0.        , 0.        ,\n",
              "        0.        , 0.        , 0.        ]])"
            ]
          },
          "metadata": {
            "tags": []
          },
          "execution_count": 29
        }
      ]
    },
    {
      "cell_type": "markdown",
      "metadata": {
        "id": "VHAG5Bv2yQ_m"
      },
      "source": [
        "Here the vectorizer has considered all the words to calculate tfidf values and thus you will see 5 lists containing 38 values."
      ]
    },
    {
      "cell_type": "markdown",
      "metadata": {
        "id": "nmQqO-KYRERJ"
      },
      "source": [
        "#References:\n",
        "Bag of Words : https://machinelearningmastery.com/gentle-introduction-bag-words-model/\n",
        "\n",
        "Tfidf : https://stackabuse.com/python-for-nlp-creating-tf-idf-model-from-scratch/"
      ]
    }
  ]
}