{
  "nbformat": 4,
  "nbformat_minor": 0,
  "metadata": {
    "colab": {
      "name": "Chunking and Chinking",
      "provenance": [],
      "authorship_tag": "ABX9TyN7EEKAZFocuGpKXCpf9U19",
      "include_colab_link": true
    },
    "kernelspec": {
      "name": "python3",
      "display_name": "Python 3"
    },
    "language_info": {
      "name": "python"
    }
  },
  "cells": [
    {
      "cell_type": "markdown",
      "metadata": {
        "id": "view-in-github",
        "colab_type": "text"
      },
      "source": [
        "<a href=\"https://colab.research.google.com/github/aadityadamle/NLP-Course/blob/main/Chunking_and_Chinking.ipynb\" target=\"_parent\"><img src=\"https://colab.research.google.com/assets/colab-badge.svg\" alt=\"Open In Colab\"/></a>"
      ]
    },
    {
      "cell_type": "code",
      "metadata": {
        "id": "kWxW6pII81xn"
      },
      "source": [
        "import nltk"
      ],
      "execution_count": 1,
      "outputs": []
    },
    {
      "cell_type": "code",
      "metadata": {
        "colab": {
          "base_uri": "https://localhost:8080/"
        },
        "id": "Tdy36mKw9EXR",
        "outputId": "9619942a-ca98-4e39-d679-f76e2194b6b6"
      },
      "source": [
        "nltk.download(\"book\")"
      ],
      "execution_count": 2,
      "outputs": [
        {
          "output_type": "stream",
          "text": [
            "[nltk_data] Downloading collection 'book'\n",
            "[nltk_data]    | \n",
            "[nltk_data]    | Downloading package abc to /root/nltk_data...\n",
            "[nltk_data]    |   Unzipping corpora/abc.zip.\n",
            "[nltk_data]    | Downloading package brown to /root/nltk_data...\n",
            "[nltk_data]    |   Unzipping corpora/brown.zip.\n",
            "[nltk_data]    | Downloading package chat80 to /root/nltk_data...\n",
            "[nltk_data]    |   Unzipping corpora/chat80.zip.\n",
            "[nltk_data]    | Downloading package cmudict to /root/nltk_data...\n",
            "[nltk_data]    |   Unzipping corpora/cmudict.zip.\n",
            "[nltk_data]    | Downloading package conll2000 to /root/nltk_data...\n",
            "[nltk_data]    |   Unzipping corpora/conll2000.zip.\n",
            "[nltk_data]    | Downloading package conll2002 to /root/nltk_data...\n",
            "[nltk_data]    |   Unzipping corpora/conll2002.zip.\n",
            "[nltk_data]    | Downloading package dependency_treebank to\n",
            "[nltk_data]    |     /root/nltk_data...\n",
            "[nltk_data]    |   Unzipping corpora/dependency_treebank.zip.\n",
            "[nltk_data]    | Downloading package genesis to /root/nltk_data...\n",
            "[nltk_data]    |   Unzipping corpora/genesis.zip.\n",
            "[nltk_data]    | Downloading package gutenberg to /root/nltk_data...\n",
            "[nltk_data]    |   Unzipping corpora/gutenberg.zip.\n",
            "[nltk_data]    | Downloading package ieer to /root/nltk_data...\n",
            "[nltk_data]    |   Unzipping corpora/ieer.zip.\n",
            "[nltk_data]    | Downloading package inaugural to /root/nltk_data...\n",
            "[nltk_data]    |   Unzipping corpora/inaugural.zip.\n",
            "[nltk_data]    | Downloading package movie_reviews to\n",
            "[nltk_data]    |     /root/nltk_data...\n",
            "[nltk_data]    |   Unzipping corpora/movie_reviews.zip.\n",
            "[nltk_data]    | Downloading package nps_chat to /root/nltk_data...\n",
            "[nltk_data]    |   Unzipping corpora/nps_chat.zip.\n",
            "[nltk_data]    | Downloading package names to /root/nltk_data...\n",
            "[nltk_data]    |   Unzipping corpora/names.zip.\n",
            "[nltk_data]    | Downloading package ppattach to /root/nltk_data...\n",
            "[nltk_data]    |   Unzipping corpora/ppattach.zip.\n",
            "[nltk_data]    | Downloading package reuters to /root/nltk_data...\n",
            "[nltk_data]    | Downloading package senseval to /root/nltk_data...\n",
            "[nltk_data]    |   Unzipping corpora/senseval.zip.\n",
            "[nltk_data]    | Downloading package state_union to /root/nltk_data...\n",
            "[nltk_data]    |   Unzipping corpora/state_union.zip.\n",
            "[nltk_data]    | Downloading package stopwords to /root/nltk_data...\n",
            "[nltk_data]    |   Unzipping corpora/stopwords.zip.\n",
            "[nltk_data]    | Downloading package swadesh to /root/nltk_data...\n",
            "[nltk_data]    |   Unzipping corpora/swadesh.zip.\n",
            "[nltk_data]    | Downloading package timit to /root/nltk_data...\n",
            "[nltk_data]    |   Unzipping corpora/timit.zip.\n",
            "[nltk_data]    | Downloading package treebank to /root/nltk_data...\n",
            "[nltk_data]    |   Unzipping corpora/treebank.zip.\n",
            "[nltk_data]    | Downloading package toolbox to /root/nltk_data...\n",
            "[nltk_data]    |   Unzipping corpora/toolbox.zip.\n",
            "[nltk_data]    | Downloading package udhr to /root/nltk_data...\n",
            "[nltk_data]    |   Unzipping corpora/udhr.zip.\n",
            "[nltk_data]    | Downloading package udhr2 to /root/nltk_data...\n",
            "[nltk_data]    |   Unzipping corpora/udhr2.zip.\n",
            "[nltk_data]    | Downloading package unicode_samples to\n",
            "[nltk_data]    |     /root/nltk_data...\n",
            "[nltk_data]    |   Unzipping corpora/unicode_samples.zip.\n",
            "[nltk_data]    | Downloading package webtext to /root/nltk_data...\n",
            "[nltk_data]    |   Unzipping corpora/webtext.zip.\n",
            "[nltk_data]    | Downloading package wordnet to /root/nltk_data...\n",
            "[nltk_data]    |   Unzipping corpora/wordnet.zip.\n",
            "[nltk_data]    | Downloading package wordnet_ic to /root/nltk_data...\n",
            "[nltk_data]    |   Unzipping corpora/wordnet_ic.zip.\n",
            "[nltk_data]    | Downloading package words to /root/nltk_data...\n",
            "[nltk_data]    |   Unzipping corpora/words.zip.\n",
            "[nltk_data]    | Downloading package maxent_treebank_pos_tagger to\n",
            "[nltk_data]    |     /root/nltk_data...\n",
            "[nltk_data]    |   Unzipping taggers/maxent_treebank_pos_tagger.zip.\n",
            "[nltk_data]    | Downloading package maxent_ne_chunker to\n",
            "[nltk_data]    |     /root/nltk_data...\n",
            "[nltk_data]    |   Unzipping chunkers/maxent_ne_chunker.zip.\n",
            "[nltk_data]    | Downloading package universal_tagset to\n",
            "[nltk_data]    |     /root/nltk_data...\n",
            "[nltk_data]    |   Unzipping taggers/universal_tagset.zip.\n",
            "[nltk_data]    | Downloading package punkt to /root/nltk_data...\n",
            "[nltk_data]    |   Unzipping tokenizers/punkt.zip.\n",
            "[nltk_data]    | Downloading package book_grammars to\n",
            "[nltk_data]    |     /root/nltk_data...\n",
            "[nltk_data]    |   Unzipping grammars/book_grammars.zip.\n",
            "[nltk_data]    | Downloading package city_database to\n",
            "[nltk_data]    |     /root/nltk_data...\n",
            "[nltk_data]    |   Unzipping corpora/city_database.zip.\n",
            "[nltk_data]    | Downloading package tagsets to /root/nltk_data...\n",
            "[nltk_data]    |   Unzipping help/tagsets.zip.\n",
            "[nltk_data]    | Downloading package panlex_swadesh to\n",
            "[nltk_data]    |     /root/nltk_data...\n",
            "[nltk_data]    | Downloading package averaged_perceptron_tagger to\n",
            "[nltk_data]    |     /root/nltk_data...\n",
            "[nltk_data]    |   Unzipping taggers/averaged_perceptron_tagger.zip.\n",
            "[nltk_data]    | \n",
            "[nltk_data]  Done downloading collection book\n"
          ],
          "name": "stdout"
        },
        {
          "output_type": "execute_result",
          "data": {
            "text/plain": [
              "True"
            ]
          },
          "metadata": {
            "tags": []
          },
          "execution_count": 2
        }
      ]
    },
    {
      "cell_type": "markdown",
      "metadata": {
        "id": "Qmr-c2Wc9N7H"
      },
      "source": [
        "#Chunking and Chinking\n",
        "After POS tagging the next step to move towards entity detection is chunking, which segments and labels multi-token sequences. A chunk may contain small - level tokens and even the POS tags added in the earlier step. Chunking basically selects a subset of the tokens. The chunks in a text are separate from one another and do not overlap in the source text.\n",
        "\n",
        "We can use chunkers to select the parts of the text which we require from the entire text. For example we can obtain chunks containing Noun phrases only. This is called as noun phrase chunking."
      ]
    },
    {
      "cell_type": "markdown",
      "metadata": {
        "id": "ouXI5bVO9Ubj"
      },
      "source": [
        "The chunking process is a little bit same as using regular expressions. Firstly, you take a tagged or annotated text. Then define a rule or set of rules which will be used for chunking the text. Unlike in regular expressions, the POS tags are used to form patterns for the rules in chunking. All the Regular Expression modifiers can be used here to form rules. Then we feed all these rules to a chunker and use it to parse a piece of text.\n",
        "\n"
      ]
    },
    {
      "cell_type": "markdown",
      "metadata": {
        "id": "Hgs8p-0P9Xxh"
      },
      "source": [
        "Below I have used Noun phrase chunker on the first example sentence at the begining of this lesson. In POS Tagging output the words \"phone\" \"side\" \"room\" were tagged as nouns."
      ]
    },
    {
      "cell_type": "code",
      "metadata": {
        "colab": {
          "base_uri": "https://localhost:8080/"
        },
        "id": "RAzYmBbC9HyC",
        "outputId": "9e9686ce-0f01-4b25-9a1d-c1b2b624c139"
      },
      "source": [
        "# Tokenize the text\n",
        "text = nltk.word_tokenize(\"I left my phone on the left side of the room.\")\n",
        "\n",
        "# POS Tag the text\n",
        "tagged_text = nltk.pos_tag(text)\n",
        "print(tagged_text)\n",
        "\n",
        "# Define the rule/s for chunking \n",
        "grammar = \"NP: {<DT>?<JJ>*<NN>}\"\n",
        "\n",
        "# Create a chunker and apply it on the\n",
        "chunker = nltk.RegexpParser(grammar)\n",
        "chunked_text = chunker.parse(tagged_text)\n",
        "print(chunked_text)"
      ],
      "execution_count": 3,
      "outputs": [
        {
          "output_type": "stream",
          "text": [
            "[('I', 'PRP'), ('left', 'VBD'), ('my', 'PRP$'), ('phone', 'NN'), ('on', 'IN'), ('the', 'DT'), ('left', 'JJ'), ('side', 'NN'), ('of', 'IN'), ('the', 'DT'), ('room', 'NN'), ('.', '.')]\n",
            "(S\n",
            "  I/PRP\n",
            "  left/VBD\n",
            "  my/PRP$\n",
            "  (NP phone/NN)\n",
            "  on/IN\n",
            "  (NP the/DT left/JJ side/NN)\n",
            "  of/IN\n",
            "  (NP the/DT room/NN)\n",
            "  ./.)\n"
          ],
          "name": "stdout"
        }
      ]
    },
    {
      "cell_type": "markdown",
      "metadata": {
        "id": "m-EPd9SF9d8q"
      },
      "source": [
        "The chunker has successfully chunked the three noun phrases in the sentence. The following diagram illustrates chunking operation using the above example."
      ]
    },
    {
      "cell_type": "markdown",
      "metadata": {
        "id": "V1NNr60UZ_99"
      },
      "source": [
        "![NPChunking.png](data:image/png;base64,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)"
      ]
    },
    {
      "cell_type": "markdown",
      "metadata": {
        "id": "1VBPRD7H9txX"
      },
      "source": [
        "Chinking is used to exclude a part from a chunk. A Chink is defined as a sequence of tokens that is not included in a chunk. Chinking is the process of removing a sequence of tokens from a chunk. There are three possible cases in chinking:\n",
        "\n",
        "\n",
        "1.   If the matching sequence of tokens makes up an entire chunk, then the whole chunk is removed.\n",
        "\n",
        "2. If the sequence of tokens appears in the middle of the chunk then those tokens are removed, leaving two chunks.\n",
        "\n",
        "3. If the sequence is at the periphery of the chunk, these tokens are removed, and a smaller chunk remains.\n",
        "\n",
        "The illustration below describes the above cases. I have used the middle chunk from the above example i.e. \"the left side\"."
      ]
    },
    {
      "cell_type": "markdown",
      "metadata": {
        "id": "SS6TpfvrjrKs"
      },
      "source": [
        "![Chinktypes (1).png](data:image/png;base64,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)"
      ]
    },
    {
      "cell_type": "markdown",
      "metadata": {
        "id": "qhrg6ZaZ-FeF"
      },
      "source": [
        "Now let's see the code to do this."
      ]
    },
    {
      "cell_type": "code",
      "metadata": {
        "colab": {
          "base_uri": "https://localhost:8080/"
        },
        "id": "uzvhxYcp9bfw",
        "outputId": "3b845379-c08c-4feb-e6f4-b8a9966e9bab"
      },
      "source": [
        "# Tokenize the text\n",
        "text = nltk.word_tokenize(\"the left side\")\n",
        "\n",
        "# POS Tag the text\n",
        "tagged_text = nltk.pos_tag(text)\n",
        "print(tagged_text)\n",
        "\n",
        "# Define the rule/s for chunking and chinking\n",
        "# Case 1\n",
        "grammar1 = \"\"\"NP: {<.*>+}\n",
        "               }<DT|JJ|NN>+{\"\"\"\n",
        "\n",
        "chunker = nltk.RegexpParser(grammar1)\n",
        "chunked_text1 = chunker.parse(tagged_text)\n",
        "print(\"Case 1:\", chunked_text1)\n",
        "\n",
        "# Case 2\n",
        "grammar2 = \"\"\"NP: {<.*>+}\n",
        "               }<JJ>+{\"\"\"\n",
        "\n",
        "chunker = nltk.RegexpParser(grammar2)\n",
        "chunked_text2 = chunker.parse(tagged_text)\n",
        "print(\"Case 2:\", chunked_text2)\n",
        "\n",
        "# Case 3 \n",
        "grammar3 = \"\"\"NP: {<.*>+}\n",
        "               }<DT|JJ>+{\"\"\"\n",
        "\n",
        "chunker = nltk.RegexpParser(grammar3)\n",
        "chunked_text3 = chunker.parse(tagged_text)\n",
        "print(\"Case 3:\", chunked_text3)"
      ],
      "execution_count": 4,
      "outputs": [
        {
          "output_type": "stream",
          "text": [
            "[('the', 'DT'), ('left', 'JJ'), ('side', 'NN')]\n",
            "Case 1: (S the/DT left/JJ side/NN)\n",
            "Case 2: (S (NP the/DT) left/JJ (NP side/NN))\n",
            "Case 3: (S the/DT left/JJ (NP side/NN))\n"
          ],
          "name": "stdout"
        }
      ]
    },
    {
      "cell_type": "markdown",
      "metadata": {
        "id": "JZk9UGc8-NxT"
      },
      "source": [
        "NLTK provides a built-in chunker for Named Entity Recognition. Let's see how it works on second example where the polish can be verb or name of language i.e. a named entity."
      ]
    },
    {
      "cell_type": "code",
      "metadata": {
        "colab": {
          "base_uri": "https://localhost:8080/"
        },
        "id": "OKHrGJKo-Ks0",
        "outputId": "6701e670-d0d8-4dae-a534-add69eff88e6"
      },
      "source": [
        "# Tokenize the text\n",
        "text = nltk.word_tokenize(\"He's got to polish up his Polish for his job.\")\n",
        "\n",
        "# POS Tag the text\n",
        "tagged_text = nltk.pos_tag(text)\n",
        "print(tagged_text)\n",
        "\n",
        "# Use NE chunker\n",
        "namedEntity = nltk.ne_chunk(tagged_text)\n",
        "print(namedEntity)"
      ],
      "execution_count": 5,
      "outputs": [
        {
          "output_type": "stream",
          "text": [
            "[('He', 'PRP'), (\"'s\", 'VBZ'), ('got', 'VBD'), ('to', 'TO'), ('polish', 'VB'), ('up', 'RP'), ('his', 'PRP$'), ('Polish', 'NN'), ('for', 'IN'), ('his', 'PRP$'), ('job', 'NN'), ('.', '.')]\n",
            "(S\n",
            "  He/PRP\n",
            "  's/VBZ\n",
            "  got/VBD\n",
            "  to/TO\n",
            "  polish/VB\n",
            "  up/RP\n",
            "  his/PRP$\n",
            "  (GPE Polish/NN)\n",
            "  for/IN\n",
            "  his/PRP$\n",
            "  job/NN\n",
            "  ./.)\n"
          ],
          "name": "stdout"
        }
      ]
    },
    {
      "cell_type": "markdown",
      "metadata": {
        "id": "SNWulN_S-T3a"
      },
      "source": [
        "The output shows that the two instances of the word \"polish\" are identified correctly and the chunker has identified the correct type of the named entity as well - Geo Political Entity."
      ]
    },
    {
      "cell_type": "markdown",
      "metadata": {
        "id": "mIEUq6lj-Ym0"
      },
      "source": [
        "## Reference :\n",
        "http://www.nltk.org/book/ch05.html"
      ]
    }
  ]
}